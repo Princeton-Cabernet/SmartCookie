{
 "cells": [
  {
   "cell_type": "code",
   "execution_count": 161,
   "id": "bd14e2a1",
   "metadata": {},
   "outputs": [],
   "source": [
    "def get_sum_across_cpus(fname):\n",
    "    with open(fname, 'r') as f:\n",
    "        list = f.read() \n",
    "        lines = list.split()\n",
    "        #print(lines)\n",
    "        local_sum=0\n",
    "        for num_str in lines:\n",
    "            num_str = num_str.replace(\",\",\"\")\n",
    "            local_sum+=int(num_str) #sum up cycles over 16 cores \n",
    "        #print(sum)\n",
    "    return local_sum\n",
    "\n",
    "\n",
    "def get_avg_across_runs(sum_list, num_runs):\n",
    "    avg=0\n",
    "    for sum in sum_list:\n",
    "        avg += sum \n",
    "    return avg/num_runs \n",
    "    "
   ]
  },
  {
   "cell_type": "code",
   "execution_count": 162,
   "id": "547cad14",
   "metadata": {
    "scrolled": true
   },
   "outputs": [
    {
     "ename": "FileNotFoundError",
     "evalue": "[Errno 2] No such file or directory: 'xdp_overhead/b_rps_16254/output0.txt'",
     "output_type": "error",
     "traceback": [
      "\u001b[0;31m---------------------------------------------------------------------------\u001b[0m",
      "\u001b[0;31mFileNotFoundError\u001b[0m                         Traceback (most recent call last)",
      "\u001b[0;32m/var/folders/3s/6bhvf5mx625_x4cr48v8s1lw0000gq/T/ipykernel_78560/3947097846.py\u001b[0m in \u001b[0;36m<module>\u001b[0;34m\u001b[0m\n\u001b[1;32m     28\u001b[0m         \u001b[0mfname\u001b[0m\u001b[0;34m=\u001b[0m\u001b[0mpath\u001b[0m\u001b[0;34m+\u001b[0m\u001b[0mdname\u001b[0m\u001b[0;34m+\u001b[0m\u001b[0;34m\"/output\"\u001b[0m\u001b[0;34m+\u001b[0m\u001b[0mstr\u001b[0m\u001b[0;34m(\u001b[0m\u001b[0mi\u001b[0m\u001b[0;34m)\u001b[0m\u001b[0;34m+\u001b[0m\u001b[0;34m\".txt\"\u001b[0m\u001b[0;34m\u001b[0m\u001b[0;34m\u001b[0m\u001b[0m\n\u001b[1;32m     29\u001b[0m         \u001b[0mi\u001b[0m\u001b[0;34m+=\u001b[0m\u001b[0;36m1\u001b[0m\u001b[0;34m\u001b[0m\u001b[0;34m\u001b[0m\u001b[0m\n\u001b[0;32m---> 30\u001b[0;31m         \u001b[0msum\u001b[0m \u001b[0;34m=\u001b[0m \u001b[0mget_sum_across_cpus\u001b[0m\u001b[0;34m(\u001b[0m\u001b[0mfname\u001b[0m\u001b[0;34m)\u001b[0m\u001b[0;34m\u001b[0m\u001b[0;34m\u001b[0m\u001b[0m\n\u001b[0m\u001b[1;32m     31\u001b[0m         \u001b[0mb_sums\u001b[0m\u001b[0;34m.\u001b[0m\u001b[0mappend\u001b[0m\u001b[0;34m(\u001b[0m\u001b[0msum\u001b[0m\u001b[0;34m)\u001b[0m\u001b[0;34m\u001b[0m\u001b[0;34m\u001b[0m\u001b[0m\n\u001b[1;32m     32\u001b[0m     \u001b[0mavg_sum\u001b[0m \u001b[0;34m=\u001b[0m \u001b[0mget_avg_across_runs\u001b[0m\u001b[0;34m(\u001b[0m\u001b[0mb_sums\u001b[0m\u001b[0;34m,\u001b[0m\u001b[0mnum_runs\u001b[0m\u001b[0;34m)\u001b[0m\u001b[0;34m\u001b[0m\u001b[0;34m\u001b[0m\u001b[0m\n",
      "\u001b[0;32m/var/folders/3s/6bhvf5mx625_x4cr48v8s1lw0000gq/T/ipykernel_78560/4128718506.py\u001b[0m in \u001b[0;36mget_sum_across_cpus\u001b[0;34m(fname)\u001b[0m\n\u001b[1;32m      1\u001b[0m \u001b[0;32mdef\u001b[0m \u001b[0mget_sum_across_cpus\u001b[0m\u001b[0;34m(\u001b[0m\u001b[0mfname\u001b[0m\u001b[0;34m)\u001b[0m\u001b[0;34m:\u001b[0m\u001b[0;34m\u001b[0m\u001b[0;34m\u001b[0m\u001b[0m\n\u001b[0;32m----> 2\u001b[0;31m     \u001b[0;32mwith\u001b[0m \u001b[0mopen\u001b[0m\u001b[0;34m(\u001b[0m\u001b[0mfname\u001b[0m\u001b[0;34m,\u001b[0m \u001b[0;34m'r'\u001b[0m\u001b[0;34m)\u001b[0m \u001b[0;32mas\u001b[0m \u001b[0mf\u001b[0m\u001b[0;34m:\u001b[0m\u001b[0;34m\u001b[0m\u001b[0;34m\u001b[0m\u001b[0m\n\u001b[0m\u001b[1;32m      3\u001b[0m         \u001b[0mlist\u001b[0m \u001b[0;34m=\u001b[0m \u001b[0mf\u001b[0m\u001b[0;34m.\u001b[0m\u001b[0mread\u001b[0m\u001b[0;34m(\u001b[0m\u001b[0;34m)\u001b[0m\u001b[0;34m\u001b[0m\u001b[0;34m\u001b[0m\u001b[0m\n\u001b[1;32m      4\u001b[0m         \u001b[0mlines\u001b[0m \u001b[0;34m=\u001b[0m \u001b[0mlist\u001b[0m\u001b[0;34m.\u001b[0m\u001b[0msplit\u001b[0m\u001b[0;34m(\u001b[0m\u001b[0;34m)\u001b[0m\u001b[0;34m\u001b[0m\u001b[0;34m\u001b[0m\u001b[0m\n\u001b[1;32m      5\u001b[0m         \u001b[0;31m#print(lines)\u001b[0m\u001b[0;34m\u001b[0m\u001b[0;34m\u001b[0m\u001b[0m\n",
      "\u001b[0;31mFileNotFoundError\u001b[0m: [Errno 2] No such file or directory: 'xdp_overhead/b_rps_16254/output0.txt'"
     ]
    }
   ],
   "source": [
    "#get the average cpu cycles/sec over 16 cores for one data point \n",
    "b_rps = [] #x axis \n",
    "b_cps = [] #y axis\n",
    "num_runs = 20\n",
    "dir_list = [   \n",
    "\"b_rps_3307\",\n",
    "\"b_rps_7697\",\n",
    "\"b_rps_12633\",\n",
    "\"b_rps_15213\",\n",
    "\"b_rps_16254\",\n",
    "\"b_rps_16463\",\n",
    "\"b_rps_16813\",\n",
    "]\n",
    "\n",
    "\n",
    "\n",
    "path=\"xdp_overhead/\"\n",
    "\n",
    "\n",
    "for dname in dir_list: # go through every data point collected \n",
    "    b_sums = []\n",
    "    i = 0\n",
    "    sum=0\n",
    "    while i < num_runs:     #go through every run \n",
    "        fname=path+dname+\"/output\"+str(i)+\".txt\"\n",
    "        i+=1 \n",
    "        sum = get_sum_across_cpus(fname)\n",
    "        b_sums.append(sum)\n",
    "    avg_sum = get_avg_across_runs(b_sums,num_runs)\n",
    "    b_rps.append(int(dname[6:]))\n",
    "    b_cps.append(avg_sum)  #report avg sum across all runs as y-axis cps \n",
    "\n",
    "\n",
    "print(b_rps)\n",
    "print(b_cps)"
   ]
  },
  {
   "cell_type": "code",
   "execution_count": null,
   "id": "a0090e46",
   "metadata": {},
   "outputs": [],
   "source": [
    "import pandas as pd\n",
    "import numpy as np"
   ]
  },
  {
   "cell_type": "code",
   "execution_count": null,
   "id": "8fc5cacd",
   "metadata": {},
   "outputs": [],
   "source": [
    "from matplotlib import pyplot as plt \n",
    "from matplotlib.pyplot import figure\n",
    "import numpy as np\n",
    "\n",
    "rates=[\n",
    "    [1,1,2,2,3,3,],\n",
    "    [2,2,3,3,3,2],\n",
    "    [2,3,3,4,4,2,4,4,3],\n",
    "    [3,3,3,4,2,4,4,3,5],\n",
    "    [4,5,5,5,5,3,5,4,6,5,4],\n",
    "    [5,5,6,4,4,5,3,5,6,7,5,6,4],\n",
    "    [5,6,6,7,6,4,6,7,6,6,7,5],\n",
    "    [6,7,7,6,5,8,6,7,8,8]\n",
    "]\n",
    "\n",
    "plt.boxplot(rates)\n",
    "plt.plot(range(1,len(rates)+1),[np.mean(x) for x in rates])"
   ]
  },
  {
   "cell_type": "code",
   "execution_count": null,
   "id": "7e39d435",
   "metadata": {},
   "outputs": [],
   "source": [
    "#Plot Benign Client Requests per second versus Server CPU Cycles per second \n",
    "\n",
    "\n",
    "from matplotlib import pyplot as plt \n",
    "from matplotlib.pyplot import figure\n",
    "import numpy as np\n",
    "\n",
    "\n",
    "x_base = np.true_divide(b_rps, 1e3) #show thousand request per sec\n",
    "y_base = np.true_divide(b_cps,1e9) #show billion cpu cycles per sec \n",
    "\n",
    "figure(figsize = (10, 6), dpi = 100)\n",
    "\n",
    "plt.xlabel(\"Benign Traffic Req/Sec (Thousands) \")\n",
    "plt.ylabel(\"CPU Resources (Billion cycles/sec)\")\n",
    "\n",
    "plt.plot(x_base, y_base, \".b\", label=\"vanilla kernel\")\n",
    "#plt.plot(x_xdp, y_xdp, \"-g\", label=\"xdp cookies\")\n",
    "\n",
    "plt.legend()#(loc=\"upper right\")\n",
    "\n",
    "plt.show()"
   ]
  },
  {
   "cell_type": "code",
   "execution_count": null,
   "id": "a3f19e23",
   "metadata": {},
   "outputs": [],
   "source": []
  }
 ],
 "metadata": {
  "kernelspec": {
   "display_name": "Python 3 (ipykernel)",
   "language": "python",
   "name": "python3"
  },
  "language_info": {
   "codemirror_mode": {
    "name": "ipython",
    "version": 3
   },
   "file_extension": ".py",
   "mimetype": "text/x-python",
   "name": "python",
   "nbconvert_exporter": "python",
   "pygments_lexer": "ipython3",
   "version": "3.9.9"
  }
 },
 "nbformat": 4,
 "nbformat_minor": 5
}
